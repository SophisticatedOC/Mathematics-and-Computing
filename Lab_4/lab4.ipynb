{
 "cells": [
  {
   "cell_type": "code",
   "execution_count": 14,
   "metadata": {},
   "outputs": [
    {
     "name": "stdout",
     "output_type": "stream",
     "text": [
      "Is Subset\n",
      "False\n",
      "False\n",
      "False\n",
      "False\n",
      "Is Superset\n",
      "True\n",
      "False\n",
      "True\n",
      "False\n",
      "{0, inf}\n",
      "User Loggin Denyed\n",
      "You are not logged in or do not have sufficient permission\n"
     ]
    }
   ],
   "source": [
    "\n",
    "import numpy as np\n",
    "import math\n",
    "\n",
    "\n",
    "U = {1, 2, 3, 4, 5, 6, 7, 8, 9, 10}\n",
    "\n",
    "# Subsets of U:\n",
    "A = {1, 2, 3, 4, 5}\n",
    "B = {1, 3, 5, 7, 9}\n",
    "C = {3, 4, 8, 9 }\n",
    "D = {2, 4, 6, 8 }\n",
    "E = {3, 5}\n",
    "\n",
    "print(\"Is Subset\")\n",
    "print(A. issubset(B))\n",
    "print(A. issubset(E))\n",
    "print(B. issubset(E))\n",
    "print(U. issubset(A))\n",
    "\n",
    "print(\"Is Superset\")\n",
    "print(U. issuperset(A))\n",
    "print(B. issuperset(C))\n",
    "print(A. issuperset(E))\n",
    "print(E. issuperset(A))\n",
    "\n",
    "\n",
    "\n",
    " # S = {{b,c}U{d,e}}n{0,+math.inf,np.exp(np.log(-1j))}\n",
    "a = {0, math.inf}\n",
    "b = {2, -math.inf}\n",
    "c = {0, math.inf, np.exp(np.log(-1j))}\n",
    "\n",
    "aub = a.union(b)\n",
    "\n",
    "s = aub.intersection(c)\n",
    "print(s)\n",
    "\n",
    "\n",
    "\n",
    "# not\n",
    "is_loggin = False\n",
    "\n",
    "if not is_loggin:\n",
    "    print('User Loggin Denyed')\n",
    "else:\n",
    "    print('Login')\n",
    "\n",
    "\n",
    "\n",
    "# and\n",
    "is_logged_in = True\n",
    "has_permission = False\n",
    "\n",
    "if is_logged_in and has_permission:\n",
    "    print(\"Access Granted\")\n",
    "else:\n",
    "    print(\"You are not logged in or do not have sufficient permission\")\n",
    "    "
   ]
  }
 ],
 "metadata": {
  "kernelspec": {
   "display_name": "Python 3",
   "language": "python",
   "name": "python3"
  },
  "language_info": {
   "codemirror_mode": {
    "name": "ipython",
    "version": 3
   },
   "file_extension": ".py",
   "mimetype": "text/x-python",
   "name": "python",
   "nbconvert_exporter": "python",
   "pygments_lexer": "ipython3",
   "version": "3.12.6"
  }
 },
 "nbformat": 4,
 "nbformat_minor": 2
}
