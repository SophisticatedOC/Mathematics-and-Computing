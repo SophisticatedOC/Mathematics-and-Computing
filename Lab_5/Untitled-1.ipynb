{
 "cells": [
  {
   "cell_type": "code",
   "execution_count": 36,
   "metadata": {},
   "outputs": [
    {
     "data": {
      "text/plain": [
       "[log(-sqrt((4*x - 1)/(x + 3))), log((4*x - 1)/(x + 3))/2]"
      ]
     },
     "execution_count": 36,
     "metadata": {},
     "output_type": "execute_result"
    }
   ],
   "source": [
    "import sympy as sp\n",
    "import numpy as np\n",
    "import matplotlib.pyplot as plt\n",
    "\n",
    "\n",
    "#Task1\n",
    "x, y = sp.symbols('x y')\n",
    "equation= -1+(y**2/x)\n",
    "sp.solve(equation, y)\n",
    "\n",
    "# xEr|x>=0\n",
    "\n",
    "x = np.arange(-10, 10, 0.1)\n",
    "\n",
    "y1 = -np.sqrt(x)\n",
    "y2 = np.sqrt(x)\n",
    "print(x)\n",
    "print(y1)\n",
    "print(y2)\n",
    "plt.plot(x,y1,'r-')\n",
    "plt.plot(x,y2,'blue')\n",
    "plt.show()\n",
    "\n",
    "\n",
    "#Task2\n",
    "x, y = sp.symbols('x y')\n",
    "equation= 1-(x*(y**2))\n",
    "sp.solve(equation, y)\n",
    "\n",
    "x = np.arange(-10, 10, 0.1)\n",
    "\n",
    "y3 = -np.sqrt(x)\n",
    "y4 = np.sqrt(x)\n",
    "print(x)\n",
    "print(y3)\n",
    "print(y4)\n",
    "plt.plot(x,y3,'r-')\n",
    "plt.plot(x,y4,'blue')\n",
    "plt.show()\n",
    "\n",
    "\n",
    "#Task3\n",
    "x, y = sp.symbols('x y')\n",
    "equation= 2-(y*(x**2))\n",
    "sp.solve(equation, y)\n",
    "\n",
    "x = np.arange(-10, 10, 0.1)\n",
    "\n",
    "y5 = -np.sqrt(x)\n",
    "y6 = np.sqrt(x)\n",
    "print(x)\n",
    "print(y5)\n",
    "print(y6)\n",
    "plt.plot(x,y5,'r-')\n",
    "plt.plot(x,y6,'blue')\n",
    "plt.show()\n",
    "\n",
    "\n",
    "#Task4\n",
    "x, y = sp.symbols('x y')\n",
    "equation = 3-(y*(x**3)) #equation = 2 (e.g., 2 = 3-(y*(x**3)))\n",
    "sp.solve(equation, y)\n",
    "\n",
    "x = np.arange(-10, 10, 0.1)\n",
    "\n",
    "y7 = -np.sqrt(x)\n",
    "y8 = np.sqrt(x)\n",
    "print(x)\n",
    "print(y7)\n",
    "print(y8)\n",
    "plt.plot(x,y7,'r-')\n",
    "plt.plot(x,y8,'blue')\n",
    "plt.show()\n",
    "\n",
    "\n",
    "#Task5\n",
    "x, y = sp.symbols('x y')\n",
    "equation = ((((4*x)-1)/(x+3))-(sp.exp(2*y)))\n",
    "sp.solve(equation, y)\n",
    "\n",
    "\n"
   ]
  }
 ],
 "metadata": {
  "kernelspec": {
   "display_name": "Python 3",
   "language": "python",
   "name": "python3"
  },
  "language_info": {
   "codemirror_mode": {
    "name": "ipython",
    "version": 3
   },
   "file_extension": ".py",
   "mimetype": "text/x-python",
   "name": "python",
   "nbconvert_exporter": "python",
   "pygments_lexer": "ipython3",
   "version": "3.12.6"
  }
 },
 "nbformat": 4,
 "nbformat_minor": 2
}
